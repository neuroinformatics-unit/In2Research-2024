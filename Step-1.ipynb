{
 "cells": [
  {
   "cell_type": "markdown",
   "metadata": {},
   "source": [
    "Inserting all necessary packages needed for this step"
   ]
  },
  {
   "cell_type": "code",
   "execution_count": null,
   "metadata": {},
   "outputs": [],
   "source": [
    "from utils import reshape_loaded_ds\n",
    "from pathlib import Path\n",
    "from movement.io import load_poses"
   ]
  },
  {
   "cell_type": "markdown",
   "metadata": {},
   "source": [
    "Defining the file path for the data"
   ]
  },
  {
   "cell_type": "code",
   "execution_count": null,
   "metadata": {},
   "outputs": [],
   "source": [
    "data_folder = Path(r\"C:\\Users\\Yousuf\\Desktop\\Project\\Data\")\n",
    "print(data_folder)"
   ]
  },
  {
   "cell_type": "code",
   "execution_count": null,
   "metadata": {},
   "outputs": [],
   "source": [
    "female_1_name = \"220719_SB019_FM001_female1_2022-07-19-164002DLC_resnet50_shanice_allNov29shuffle1_196000_filtered.csv\"\n",
    "female_1_path = data_folder / female_1_name\n",
    "print(female_1_path)"
   ]
  },
  {
   "cell_type": "markdown",
   "metadata": {},
   "source": [
    "Reshaping the data in order to load into movement appropriately"
   ]
  },
  {
   "cell_type": "code",
   "execution_count": null,
   "metadata": {},
   "outputs": [],
   "source": [
    "ds = load_poses.from_dlc_file(female_1_path, fps=50)\n",
    "all_keypoints = ds.keypoints.values\n",
    "\n",
    "resident_keypoints = []\n",
    "intruder_keypoints = []\n",
    "\n",
    "for kp in all_keypoints:\n",
    "    if kp.startswith(\"resident\"):\n",
    "        resident_keypoints.append(kp.split(\"_\")[1])\n",
    "    else:\n",
    "        intruder_keypoints.append(kp.split(\"_\")[1])\n",
    "ds_new = reshape_loaded_ds(ds,[\"resident\",\"intruder\"],intruder_keypoints)\n",
    "ds_new"
   ]
  },
  {
   "cell_type": "markdown",
   "metadata": {},
   "source": [
    "Plotting **position** data over time using xarray for a specific individual and keypoint"
   ]
  },
  {
   "cell_type": "code",
   "execution_count": null,
   "metadata": {},
   "outputs": [],
   "source": [
    "position = ds_new.position"
   ]
  },
  {
   "cell_type": "code",
   "execution_count": null,
   "metadata": {},
   "outputs": [],
   "source": [
    "da = position.sel(individuals=\"resident\", keypoints=\"nose\")\n",
    "print(da)"
   ]
  },
  {
   "cell_type": "code",
   "execution_count": null,
   "metadata": {},
   "outputs": [],
   "source": [
    "da.plot.line(x=\"time\", row=\"space\", aspect=2, size=2.5)"
   ]
  },
  {
   "cell_type": "code",
   "execution_count": null,
   "metadata": {},
   "outputs": [],
   "source": [
    "da = position.sel(keypoints=\"nose\")\n",
    "da.plot.line(x=\"time\", row=\"individuals\", aspect=2, size=2.5)"
   ]
  },
  {
   "cell_type": "markdown",
   "metadata": {},
   "source": [
    "Plotting **confidence** data with xarray for specific individual and keypoint"
   ]
  },
  {
   "cell_type": "code",
   "execution_count": null,
   "metadata": {},
   "outputs": [],
   "source": [
    "confidence = ds_new.confidence"
   ]
  },
  {
   "cell_type": "code",
   "execution_count": null,
   "metadata": {},
   "outputs": [],
   "source": [
    "da = confidence.sel(individuals=\"resident\", keypoints=\"nose\")\n",
    "print(ds)"
   ]
  },
  {
   "cell_type": "code",
   "execution_count": null,
   "metadata": {},
   "outputs": [],
   "source": [
    "da.plot.line(x=\"time\", aspect=2, size=2.5)"
   ]
  },
  {
   "cell_type": "markdown",
   "metadata": {},
   "source": [
    "From this plot, we can see majority of the confidence values lie between 0.2 - 0.8, which suggests that using the nose as a keypoint would not be ideal. Furthermore, the model looks less confident over time as after 40 seconds, the confidence value are reaching lows of 0.1. "
   ]
  },
  {
   "cell_type": "markdown",
   "metadata": {},
   "source": [
    "Questions:\n",
    "\n",
    "4 separate CSV files - any shortcuts to compute this large amount of information?\n",
    "\n",
    "A bit of confusion in understanding x and y plots (position data)\n",
    "\n",
    "Is there a shortcut to compute each key points for each individual. Is this too much data?\n",
    "\n",
    "How to clean code and make it minimal as possible?\n",
    "\n",
    "Pusing to seperate branch\n"
   ]
  },
  {
   "cell_type": "markdown",
   "metadata": {},
   "source": []
  }
 ],
 "metadata": {
  "kernelspec": {
   "display_name": "movement-env",
   "language": "python",
   "name": "python3"
  },
  "language_info": {
   "codemirror_mode": {
    "name": "ipython",
    "version": 3
   },
   "file_extension": ".py",
   "mimetype": "text/x-python",
   "name": "python",
   "nbconvert_exporter": "python",
   "pygments_lexer": "ipython3",
   "version": "3.11.9"
  }
 },
 "nbformat": 4,
 "nbformat_minor": 2
}
