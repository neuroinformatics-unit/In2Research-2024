{
 "cells": [
  {
   "cell_type": "markdown",
   "metadata": {},
   "source": [
    "## Step 1\n",
    "Inserting all necessary packages needed for this step"
   ]
  },
  {
   "cell_type": "code",
   "execution_count": null,
   "metadata": {},
   "outputs": [],
   "source": [
    "from utils import reshape_loaded_ds\n",
    "from pathlib import Path\n",
    "from movement.io import load_poses"
   ]
  },
  {
   "cell_type": "markdown",
   "metadata": {},
   "source": [
    "Defining the file path for the data"
   ]
  },
  {
   "cell_type": "code",
   "execution_count": null,
   "metadata": {},
   "outputs": [],
   "source": [
    "data_folder = Path(r\"C:\\Users\\Yousuf\\Desktop\\Project\\Data\")\n",
    "print(data_folder)"
   ]
  },
  {
   "cell_type": "code",
   "execution_count": null,
   "metadata": {},
   "outputs": [],
   "source": [
    "female_1_name = \"220719_SB019_FM001_female1_2022-07-19-164002DLC_resnet50_shanice_allNov29shuffle1_196000_filtered.csv\"\n",
    "female_1_path = data_folder / female_1_name\n",
    "print(female_1_path)"
   ]
  },
  {
   "cell_type": "markdown",
   "metadata": {},
   "source": [
    "Reshaping the data in order to load into movement appropriately"
   ]
  },
  {
   "cell_type": "code",
   "execution_count": null,
   "metadata": {},
   "outputs": [],
   "source": [
    "ds = load_poses.from_dlc_file(female_1_path, fps=50)\n",
    "all_keypoints = ds.keypoints.values\n",
    "\n",
    "resident_keypoints = []\n",
    "intruder_keypoints = []\n",
    "\n",
    "for kp in all_keypoints:\n",
    "    if kp.startswith(\"resident\"):\n",
    "        resident_keypoints.append(kp.split(\"_\")[1])\n",
    "    else:\n",
    "        intruder_keypoints.append(kp.split(\"_\")[1])\n",
    "ds_new = reshape_loaded_ds(ds,[\"resident\",\"intruder\"],intruder_keypoints)\n",
    "ds_new"
   ]
  },
  {
   "cell_type": "markdown",
   "metadata": {},
   "source": [
    "Selecting relevant time period from data"
   ]
  },
  {
   "cell_type": "code",
   "execution_count": null,
   "metadata": {},
   "outputs": [],
   "source": [
    "ds_new  = ds_new.sel(time=slice(34, 60.8))\n",
    "ds_new"
   ]
  },
  {
   "cell_type": "markdown",
   "metadata": {},
   "source": [
    "Plotting **position** data over time for all individuals and keypoints. "
   ]
  },
  {
   "cell_type": "code",
   "execution_count": null,
   "metadata": {},
   "outputs": [],
   "source": [
    "position = ds_new.position\n",
    "position"
   ]
  },
  {
   "cell_type": "code",
   "execution_count": null,
   "metadata": {},
   "outputs": [],
   "source": [
    "position.plot.line(x=\"time\", row=\"keypoints\",  hue=\"individuals\", col=\"space\", aspect=2, size=2.5)"
   ]
  },
  {
   "cell_type": "markdown",
   "metadata": {},
   "source": [
    "Plotting **confidence** data with xarray for all individuals and keypoints"
   ]
  },
  {
   "cell_type": "code",
   "execution_count": null,
   "metadata": {},
   "outputs": [],
   "source": [
    "confidence = ds_new.confidence\n",
    "confidence"
   ]
  },
  {
   "cell_type": "code",
   "execution_count": null,
   "metadata": {},
   "outputs": [],
   "source": [
    "confidence.plot.line(x=\"time\", row=\"keypoints\",  hue=\"individuals\", aspect=2, size=2.5)"
   ]
  },
  {
   "cell_type": "markdown",
   "metadata": {},
   "source": [
    "## Step 2"
   ]
  },
  {
   "cell_type": "markdown",
   "metadata": {},
   "source": [
    "Plotting confidence histograms for each keypoint"
   ]
  },
  {
   "cell_type": "code",
   "execution_count": null,
   "metadata": {},
   "outputs": [],
   "source": [
    "from matplotlib import pyplot as plt\n",
    "\n",
    "for individual in confidence.individuals:\n",
    "    da = confidence.sel(individuals=individual)\n",
    "    da.plot.hist(bins=50, alpha=0.5, label=individual)\n",
    "ax = plt.gca()\n",
    "ax.legend()\n",
    "\n"
   ]
  },
  {
   "cell_type": "code",
   "execution_count": null,
   "metadata": {},
   "outputs": [],
   "source": [
    "for keypoint in confidence.keypoints:\n",
    "    da = confidence.sel(keypoints=keypoint)\n",
    "    da.plot.hist(bins=50, alpha=0.5, label=keypoint)\n",
    "ax = plt.gca()\n",
    "ax.legend()"
   ]
  },
  {
   "cell_type": "code",
   "execution_count": null,
   "metadata": {},
   "outputs": [],
   "source": [
    "\n",
    "ds_new.update({\"position\": ds_new.move.filter_by_confidence()})"
   ]
  },
  {
   "cell_type": "code",
   "execution_count": null,
   "metadata": {},
   "outputs": [],
   "source": []
  }
 ],
 "metadata": {
  "kernelspec": {
   "display_name": "movement-env",
   "language": "python",
   "name": "python3"
  },
  "language_info": {
   "codemirror_mode": {
    "name": "ipython",
    "version": 3
   },
   "file_extension": ".py",
   "mimetype": "text/x-python",
   "name": "python",
   "nbconvert_exporter": "python",
   "pygments_lexer": "ipython3",
   "version": "3.11.9"
  }
 },
 "nbformat": 4,
 "nbformat_minor": 2
}
