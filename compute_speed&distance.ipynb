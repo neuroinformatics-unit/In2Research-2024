{
 "cells": [
  {
   "cell_type": "markdown",
   "metadata": {},
   "source": [
    "Inserting packages"
   ]
  },
  {
   "cell_type": "code",
   "execution_count": null,
   "metadata": {},
   "outputs": [],
   "source": [
    "import numpy as np\n",
    "import xarray as xr\n",
    "from matplotlib import pyplot as plt\n",
    "from pathlib import Path\n",
    "from movement.io import load_poses , save_poses\n",
    "import pandas as pd"
   ]
  },
  {
   "cell_type": "markdown",
   "metadata": {},
   "source": [
    "Loading clean data"
   ]
  },
  {
   "cell_type": "code",
   "execution_count": null,
   "metadata": {},
   "outputs": [],
   "source": [
    "data_folder = Path(r\"C:\\Users\\Yousuf\\Desktop\\Project\\Data\\clean_data\")\n",
    "\n",
    "file_name = \"220719_SB019_FM001_female4_2022-07-19-181533DLC_resnet50_shanice_allNov29shuffle1_196000_filtered_clean.csv\"\n",
    "file_path = data_folder / file_name\n",
    "velocity_folder = data_folder / \"velocity_data\"\n",
    "velocity_folder.mkdir(exist_ok=True)\n",
    "\n",
    "ds = load_poses.from_dlc_file(file_path, fps=50)\n",
    "print(ds)\n"
   ]
  },
  {
   "cell_type": "markdown",
   "metadata": {},
   "source": [
    "Computing distance between resident and intruder"
   ]
  },
  {
   "cell_type": "code",
   "execution_count": null,
   "metadata": {},
   "outputs": [],
   "source": [
    "position = ds.position\n",
    "\n",
    "dr = position.sel(individuals=\"resident\", keypoints=\"neck\")\n",
    "di = position.sel(individuals=\"intruder\", keypoints=\"neck\")\n",
    "\n",
    "\n",
    "if dr > di:\n",
    "    distances = np.sqrt(((dr - di) ** 2).sum(dim='space'))\n",
    "else:\n",
    "    distances = np.sqrt(((di - dr) ** 2).sum(dim='space'))\n",
    "print(distances)\n",
    "\n",
    "\n",
    "\n",
    "dr = position.sel(individuals=\"resident\", keypoints=\"neck\").values\n",
    "di = position.sel(individuals=\"intruder\", keypoints=\"neck\").values\n",
    "\n",
    "\n",
    "distances = np.sqrt(((dr - di) ** 2))\n",
    "print(distances)"
   ]
  },
  {
   "cell_type": "markdown",
   "metadata": {},
   "source": [
    "Computing velocity for each individual and keypoint"
   ]
  },
  {
   "cell_type": "code",
   "execution_count": null,
   "metadata": {},
   "outputs": [],
   "source": [
    "\n",
    "velocity = ds.move.compute_velocity()\n",
    "velocity.plot.line(x=\"time\", row=\"keypoints\",  hue=\"space\", col=\"individuals\", aspect=2, size=2.5)\n",
    "plt.gcf().show()\n",
    "plt.savefig(velocity_folder / f\"SB019_female4_velocity.png\")"
   ]
  },
  {
   "cell_type": "code",
   "execution_count": null,
   "metadata": {},
   "outputs": [],
   "source": []
  }
 ],
 "metadata": {
  "kernelspec": {
   "display_name": "movement-env-new",
   "language": "python",
   "name": "python3"
  },
  "language_info": {
   "codemirror_mode": {
    "name": "ipython",
    "version": 3
   },
   "file_extension": ".py",
   "mimetype": "text/x-python",
   "name": "python",
   "nbconvert_exporter": "python",
   "pygments_lexer": "ipython3",
   "version": "3.11.9"
  }
 },
 "nbformat": 4,
 "nbformat_minor": 2
}
