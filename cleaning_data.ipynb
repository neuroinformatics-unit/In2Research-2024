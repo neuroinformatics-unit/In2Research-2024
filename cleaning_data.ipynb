{
 "cells": [
  {
   "cell_type": "markdown",
   "metadata": {},
   "source": [
    "## Step 1\n",
    "Inserting all necessary packages needed for this step"
   ]
  },
  {
   "cell_type": "code",
   "execution_count": null,
   "metadata": {},
   "outputs": [],
   "source": [
    "import os\n",
    "from utils import reshape_loaded_ds\n",
    "from pathlib import Path\n",
    "from matplotlib import pyplot as plt\n",
    "from movement.io import load_poses , save_poses\n",
    "from movement.utils.reports import report_nan_values\n"
   ]
  },
  {
   "cell_type": "markdown",
   "metadata": {},
   "source": [
    "Defining the file path for the data"
   ]
  },
  {
   "cell_type": "code",
   "execution_count": null,
   "metadata": {},
   "outputs": [],
   "source": [
    "data_folder = Path(r\"C:\\Users\\Yousuf\\Desktop\\Project\\Data\")\n",
    "\n",
    "plot_folder_0 = data_folder / \"plots_thresholded\"\n",
    "plot_folder_0.mkdir(exist_ok=True)\n",
    "\n",
    "plot_folder_1 = data_folder / \"plots_interpolated\"\n",
    "plot_folder_1.mkdir(exist_ok=True)\n",
    "\n",
    "plot_folder_2 = data_folder / \"plots_smoothed\"\n",
    "plot_folder_2.mkdir(exist_ok=True)\n",
    "\n",
    "clean_data_folder = data_folder / \"clean_data\"\n",
    "clean_data_folder.mkdir(exist_ok=True)\n",
    "\n",
    "report_folder = data_folder / \"reports\"\n",
    "report_folder.mkdir(exist_ok=True)"
   ]
  },
  {
   "cell_type": "code",
   "execution_count": null,
   "metadata": {},
   "outputs": [],
   "source": [
    "file_name = \"220719_SB019_FM001_male2_2022-07-19-172457DLC_resnet50_shanice_allNov29shuffle1_196000_filtered.csv\"\n",
    "file_path = data_folder / file_name\n"
   ]
  },
  {
   "cell_type": "markdown",
   "metadata": {},
   "source": [
    "Reshaping the data in order to load into movement appropriately"
   ]
  },
  {
   "cell_type": "code",
   "execution_count": null,
   "metadata": {},
   "outputs": [],
   "source": [
    "ds = load_poses.from_dlc_file(file_path, fps=50)\n",
    "all_keypoints = ds.keypoints.values\n",
    "\n",
    "resident_keypoints = []\n",
    "intruder_keypoints = []\n",
    "\n",
    "for kp in all_keypoints:\n",
    "    if kp.startswith(\"resident\"):\n",
    "        resident_keypoints.append(kp.split(\"_\")[1])\n",
    "    else:\n",
    "        intruder_keypoints.append(kp.split(\"_\")[1])\n",
    "ds_new = reshape_loaded_ds(ds,[\"resident\",\"intruder\"],intruder_keypoints)\n",
    "ds_new"
   ]
  },
  {
   "cell_type": "markdown",
   "metadata": {},
   "source": [
    "Selecting relevant time period from data"
   ]
  },
  {
   "cell_type": "code",
   "execution_count": null,
   "metadata": {},
   "outputs": [],
   "source": [
    "ds_new  = ds_new.sel(time=slice(28, 324))\n",
    "ds_new"
   ]
  },
  {
   "cell_type": "markdown",
   "metadata": {},
   "source": [
    "Plotting **position** data over time for all individuals and keypoints. "
   ]
  },
  {
   "cell_type": "code",
   "execution_count": null,
   "metadata": {},
   "outputs": [],
   "source": [
    "position = ds_new.position\n",
    "position"
   ]
  },
  {
   "cell_type": "code",
   "execution_count": null,
   "metadata": {},
   "outputs": [],
   "source": [
    "position.plot.line(x=\"time\", row=\"keypoints\",  hue=\"individuals\", col=\"space\", aspect=2, size=2.5)"
   ]
  },
  {
   "cell_type": "markdown",
   "metadata": {},
   "source": [
    "Plotting **confidence** data with xarray for all individuals and keypoints"
   ]
  },
  {
   "cell_type": "code",
   "execution_count": null,
   "metadata": {},
   "outputs": [],
   "source": [
    "confidence = ds_new.confidence\n",
    "confidence"
   ]
  },
  {
   "cell_type": "code",
   "execution_count": null,
   "metadata": {},
   "outputs": [],
   "source": [
    "confidence.plot.line(x=\"time\", row=\"keypoints\",  hue=\"individuals\", aspect=2, size=2.5)"
   ]
  },
  {
   "cell_type": "markdown",
   "metadata": {},
   "source": [
    "## Step 2"
   ]
  },
  {
   "cell_type": "markdown",
   "metadata": {},
   "source": [
    "Plotting confidence histograms for each individual"
   ]
  },
  {
   "cell_type": "code",
   "execution_count": null,
   "metadata": {},
   "outputs": [],
   "source": [
    "fig, ax = plt.subplots(figsize=(10,4), nrows=1, ncols=2)\n",
    "\n",
    "colors = [\"blue\", \"orange\"]\n",
    "for i, individual in enumerate(confidence.individuals.values):\n",
    "    da = confidence.sel(individuals=individual)\n",
    "    da.plot.hist(bins=50, alpha=1, label=individual, ax=ax[i], color=colors[i])\n",
    "\n"
   ]
  },
  {
   "cell_type": "markdown",
   "metadata": {},
   "source": [
    "Plotting confidence histograms for each individual and keypoint"
   ]
  },
  {
   "cell_type": "code",
   "execution_count": null,
   "metadata": {},
   "outputs": [],
   "source": [
    "fig, ax = plt.subplots(figsize=(10,14), nrows=10, ncols=2, sharex=True)\n",
    "\n",
    "colors = [\"blue\", \"orange\"]\n",
    "for i, individual in enumerate(confidence.individuals.values):\n",
    "    for j, keypoint in enumerate(confidence.keypoints.values):\n",
    "        da = confidence.sel(keypoints=keypoint, individuals=individual)\n",
    "        da.plot.hist(bins=30, alpha=0.7, label=keypoint, ax=ax[j, i], color=colors[i], density=True)\n",
    "        ax[j, i].set_xlim([0, 1])\n",
    "        ax[j, i].set_title(individual) if j == 0 else ax[j, i].set_title(\"\")\n",
    "        ax[j, i].set_ylabel(keypoint) if i == 0 else ax[j, i].set_ylabel(\"\")\n",
    "        ax[j, i].set_xlabel(\"confidence\") if j==9 else ax[j, i].set_xlabel(\"\")\n",
    "            \n"
   ]
  },
  {
   "cell_type": "markdown",
   "metadata": {},
   "source": [
    "Filtering data by confidence with set threshold"
   ]
  },
  {
   "cell_type": "code",
   "execution_count": null,
   "metadata": {},
   "outputs": [],
   "source": [
    "ds_new[\"position_thresholded\"] = ds_new.move.filter_by_confidence(threshold=0.8)\n",
    "ds_new[\"position_thresholded\"].plot.line(x=\"time\", row=\"keypoints\",  hue=\"individuals\", col=\"space\", aspect=2, size=2.5)\n",
    "plt.savefig(plot_folder_0 / \"SB019_male2_position_threshold-80.png\")"
   ]
  },
  {
   "cell_type": "markdown",
   "metadata": {},
   "source": [
    "Interpolating data with a set max gap "
   ]
  },
  {
   "cell_type": "code",
   "execution_count": null,
   "metadata": {},
   "outputs": [],
   "source": [
    "ds_new[\"position_interpolated\"] = ds_new.move.interpolate_over_time(max_gap=25, data_vars=[\"position_thresholded\"])\n",
    "ds_new[\"position_interpolated\"].plot.line(x=\"time\", row=\"keypoints\",  hue=\"individuals\", col=\"space\", aspect=2, size=2.5)\n",
    "plt.savefig(plot_folder_1 / \"SB019_male2_position_interpolated_threshold-80_max-gap-25.png\")"
   ]
  },
  {
   "cell_type": "markdown",
   "metadata": {},
   "source": [
    "Applying median filter to data with window and minimum period "
   ]
  },
  {
   "cell_type": "code",
   "execution_count": null,
   "metadata": {},
   "outputs": [],
   "source": [
    "window = 7\n",
    "ds_new[\"position_smoothed\"] = ds_new.move.median_filter(window, min_periods=2,data_vars=[\"position_interpolated\"])\n",
    "ds_new[\"position_smoothed\"].plot.line(x=\"time\", row=\"keypoints\",  hue=\"individuals\", col=\"space\", aspect=2, size=2.5)\n",
    "plt.savefig(plot_folder_2 / \"SB019_male2_position_smoothed_threshold-80_max-gap-25.png\")"
   ]
  },
  {
   "cell_type": "markdown",
   "metadata": {},
   "source": [
    "Saving clean data and generating reports"
   ]
  },
  {
   "cell_type": "code",
   "execution_count": null,
   "metadata": {},
   "outputs": [],
   "source": [
    "    \n",
    "ds_to_save = ds_new[[\"position_smoothed\" , \"confidence\"]].copy()\n",
    "ds_to_save = ds_to_save.rename({\"position_smoothed\": \"position\"})\n",
    "\n",
    "\n",
    "\n",
    "new_file_name = file_name.replace(\".csv\" , \"_clean.csv\")\n",
    "clean_file_path = clean_data_folder / new_file_name\n",
    "if clean_file_path.exists():\n",
    "    os.remove(clean_file_path)\n",
    "save_poses.to_dlc_file(ds_to_save, clean_file_path, split_individuals=False,)\n",
    "       \n",
    "nan_report = report_nan_values(ds_to_save.position, f\"clean data for {file_name}\")\n",
    "\n",
    "report_file_name = file_name.replace(\".csv\" , \"_clean_nan_report.txt\")\n",
    "with open(report_folder /  report_file_name , \"w\") as f:\n",
    "    f.write(nan_report)\n"
   ]
  },
  {
   "cell_type": "code",
   "execution_count": null,
   "metadata": {},
   "outputs": [],
   "source": []
  }
 ],
 "metadata": {
  "kernelspec": {
   "display_name": "movement-env",
   "language": "python",
   "name": "python3"
  },
  "language_info": {
   "codemirror_mode": {
    "name": "ipython",
    "version": 3
   },
   "file_extension": ".py",
   "mimetype": "text/x-python",
   "name": "python",
   "nbconvert_exporter": "python",
   "pygments_lexer": "ipython3",
   "version": "3.11.9"
  }
 },
 "nbformat": 4,
 "nbformat_minor": 2
}
