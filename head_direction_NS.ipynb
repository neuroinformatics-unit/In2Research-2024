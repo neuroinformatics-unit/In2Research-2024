{
 "cells": [
  {
   "cell_type": "markdown",
   "metadata": {},
   "source": [
    "# Compute intruder head orientation relative to the resident\n",
    "## Imports"
   ]
  },
  {
   "cell_type": "code",
   "execution_count": null,
   "metadata": {},
   "outputs": [],
   "source": [
    "from pathlib import Path\n",
    "\n",
    "import numpy as np\n",
    "import xarray as xr\n",
    "from matplotlib import pyplot as plt\n",
    "import seaborn as sns\n",
    "\n",
    "from movement.io import load_poses\n",
    "\n",
    "from utils import magnitude, normalize\n",
    "from plotting import (\n",
    "    plot_head_orientation_polar_histogram,\n",
    "    plot_histogram_with_percentiles,\n",
    ")"
   ]
  },
  {
   "cell_type": "code",
   "execution_count": null,
   "metadata": {},
   "outputs": [],
   "source": [
    "# Plotting style\n",
    "sns.set(style=\"ticks\", context=\"notebook\")"
   ]
  },
  {
   "cell_type": "markdown",
   "metadata": {},
   "source": [
    "## Define paths for input/output"
   ]
  },
  {
   "cell_type": "code",
   "execution_count": null,
   "metadata": {},
   "outputs": [],
   "source": [
    "# Exchange the path to the data folder with the correct one on your system\n",
    "data_folder = Path(r\"C:\\Users\\Yousuf\\Desktop\\Project\\Data\")\n",
    "assert data_folder.exists()  # Will raise an error if the path does not exist\n",
    "\n",
    "# Clean data folder must already exist\n",
    "clean_data_folder = data_folder / \"clean_data\"\n",
    "assert clean_data_folder.exists()\n",
    "print(f\"Clean data will be loaded from {clean_data_folder}\")\n",
    "\n",
    "# Plots folder (for saving diagnostic plots)\n",
    "plots_folder = data_folder / \"plots\"\n",
    "plots_folder.mkdir(exist_ok=True)\n",
    "print(f\"Diagnostic plots will be saved in {plots_folder}\")\n",
    "\n",
    "# Create a folder to save results in the current directory\n",
    "results_folder = Path.cwd() / \"results\"\n",
    "results_folder.mkdir(exist_ok=True)\n",
    "print(f\"Results and final plots will be saved in {results_folder}\")"
   ]
  },
  {
   "cell_type": "markdown",
   "metadata": {},
   "source": [
    "## Define metadata about the tracked animals and keypoints"
   ]
  },
  {
   "cell_type": "code",
   "execution_count": null,
   "metadata": {},
   "outputs": [],
   "source": [
    "pair_names = [\"SB019_female4\", \"SB019_male2\", \"SB021_female2\", \"SB021_male1\"]\n",
    "individuals = [\"resident\", \"intruder\"]\n",
    "keypoint_names = [\n",
    "    \"nose\",\n",
    "    \"leftear\",\n",
    "    \"rightear\", \n",
    "    \"butt\",\n",
    "    \"neck\",\n",
    "    \"lefthip\",\n",
    "    \"righthip\",\n",
    "    \"leftshoulder\", \n",
    "    \"rightshoulder\",\n",
    "    \"lowerback\",\n",
    "]\n",
    "# Sectonds in the video where the interaction starts\n",
    "# This was used to restrict the analysis to the interaction period\n",
    "interaction_onsets = {\n",
    "    \"SB019_female4\": 30,\n",
    "    \"SB019_male2\": 29,\n",
    "    \"SB021_female2\": 40,\n",
    "    \"SB021_male1\": 31,\n",
    "}"
   ]
  },
  {
   "cell_type": "markdown",
   "metadata": {},
   "source": [
    "## Analyse all pairs of mice\n",
    "For each pair derive the angle between the head direction of the intruder,\n",
    "and the direction from the resident's head to the intruder's head.\n",
    "The result is a list of angles (in radians) for each frame.\n",
    "The range is from -pi to pi, where 0 means the intruder is facing towards the resident,\n",
    "and -pi/pi means the intruder is facing away from the resident.\n",
    "Positive angles indicate that the resident is to the left\n",
    "of the intruder's head vector, while negative angles indicate that the\n",
    "resident is to the right."
   ]
  },
  {
   "cell_type": "code",
   "execution_count": null,
   "metadata": {},
   "outputs": [],
   "source": [
    "angles_per_pair = {}  # dictionary to store the computed angles for each pair\n",
    "z_vector = np.array([0, 0, -1])  # unit vector pointing outwards from the screen\n",
    "\n",
    "for pair_name in pair_names:\n",
    "    # Print the names of the individuals in the pair\n",
    "    resident_id, intruder_id = pair_name.split(\"_\")\n",
    "    print(f\"\\nResident: {resident_id} | Intruder: {intruder_id}\")\n",
    "\n",
    "    # Load the clean data\n",
    "    ds = load_poses.from_dlc_file(clean_data_folder / f\"{pair_name}_clean.csv\", fps=50)\n",
    "    position = ds.position  # Extract the position data\n",
    "    print(f\"Loaded data from {pair_name}_clean.csv\")\n",
    "\n",
    "    # Define points representing each individual's head\n",
    "    # For the intruder, use the midpoint between the ears\n",
    "    intruder_head = position.sel(individuals=\"intruder\", keypoints=[\"leftear\", \"rightear\"]).mean(dim=\"keypoints\")\n",
    "    print(\"Using the midpoint between the ears as proxy for the intruder's head.\")\n",
    "    # For the resident, use the neck (ears are often not visible)\n",
    "    resident_head = position.sel(individuals=\"resident\", keypoints=\"neck\", drop=True)\n",
    "    print(\"Using the neck as proxy for the resident's head.\")\n",
    "\n",
    "    # Compute the vector going from the right ear to the left ear of the intruder\n",
    "    intruder_right_ear = position.sel(individuals=\"intruder\", keypoints=\"rightear\")\n",
    "    intruder_left_ear = position.sel(individuals=\"intruder\", keypoints=\"leftear\")\n",
    "    intruder_ear_vector = intruder_left_ear - intruder_right_ear\n",
    "    print(\"Computed vector from intruder's right ear to left ear.\")\n",
    "    \n",
    "    # The magnitude of the ear vector is the distance between the ears\n",
    "    intruder_ear_distance = magnitude(intruder_ear_vector)\n",
    "\n",
    "    # Plot this distance with 5th and 95th percentiles shown\n",
    "    percentiles = [5, 95]\n",
    "    plot_histogram_with_percentiles(\n",
    "        intruder_ear_distance,\n",
    "        percentiles=percentiles,\n",
    "        n_bins=50,\n",
    "        xlabel=\"Inter-ear distance (pixels)\",\n",
    "        # save in diagnostic plots folder\n",
    "        save_path=plots_folder / f\"{pair_name}_intruder_ear_distance_histogram.png\",\n",
    "    )\n",
    "    print(\"Plotted histogram of intruder's ear distance.\")\n",
    "\n",
    "    # Keep data if the inter-ear distance is not too small or too large\n",
    "    # We'll keep data between the 5th and 95th percentiles of the inter-ear distance\n",
    "    perc5, perc95 = np.nanpercentile(intruder_ear_distance, percentiles)\n",
    "    keep_condition = (intruder_ear_distance > perc5) & (intruder_ear_distance < perc95)\n",
    "    intruder_ear_vector = intruder_ear_vector.where(keep_condition)\n",
    "    intruder_head = intruder_head.where(keep_condition)\n",
    "    print(\n",
    "        \"Rejected data where the intruder inter-ear distance was \"\n",
    "        f\"<{perc5:.2f} or >{perc95:2f} pixels.\"\n",
    "    )\n",
    "\n",
    "    # Compute the intruder's head direction vector\n",
    "    # This is computed as the cross product of the vector from the right to the left ear\n",
    "    # and the unit vector [0, 0, -1] (vector pointing outwards from the screen).\n",
    "    intruder_head_vector = xr.DataArray(\n",
    "        np.cross(intruder_ear_vector, z_vector)[:, :2],\n",
    "        dims=(\"time\", \"space\"),\n",
    "        coords={\"time\": ds.time,\"space\": ds.space},\n",
    "    )\n",
    "    print(\"Computed intruder's head direction vector.\")\n",
    "\n",
    "    # Define a vector pointing from intruder's head to resident's head\n",
    "    intruder_to_resident_vector = resident_head - intruder_head\n",
    "    print(\"Computed vector pointing from intruder's head to resident's head.\")\n",
    "\n",
    "    # Normalize the two vectors\n",
    "    intruder_head_vector = normalize(intruder_head_vector)\n",
    "    intruder_to_resident_vector = normalize(intruder_to_resident_vector)\n",
    "    print(\"Normalized the two vectors by their magnitudes.\")\n",
    "\n",
    "    # Take the dot product between the intruder's head vector\n",
    "    # And the vector pointing from the intruder's head to the resident's head\n",
    "    # Since both vectors are normalized, this will give the cosine of the angle\n",
    "    # between the two vectors, hence we can derive the angle in radians,\n",
    "    # which will range from 0 (the two vectors are perfectly parallel)\n",
    "    # to pi (the two vectors are perfectly anti-parallel).\n",
    "    # In degrees, this will range from 0 to 180.\n",
    "    dot_product = xr.dot(intruder_head_vector, intruder_to_resident_vector, dim=\"space\")\n",
    "    unsigned_angle_radians = xr.apply_ufunc(np.arccos, dot_product)\n",
    "    print(\"Computed unsigned angle between intruder's head direction and vector to resident\")\n",
    "\n",
    "    # Compute the signed angle, which will range from -pi to pi (0 to 360 degrees)\n",
    "    # Values close to 0 indicate that the intruder is facing the resident\n",
    "    # Values close to -pi/pi indicate that the intruder is facing away from the resident\n",
    "    # Positive values indicate that the resident is to the left of the intruder\n",
    "    # Negative values indicate that the resident is to the right of the intruder\n",
    "    intruder_head_vector_3d = np.hstack([intruder_head_vector, np.zeros((intruder_head_vector.shape[0], 1))])\n",
    "    intruder_to_resident_vector_3d = np.hstack([intruder_to_resident_vector, np.zeros((intruder_to_resident_vector.shape[0], 1))])\n",
    "    cross_product = xr.DataArray(\n",
    "        np.cross(intruder_head_vector_3d, intruder_to_resident_vector_3d),\n",
    "        dims=(\"time\", \"space\"),\n",
    "        coords={\"time\": ds.time, \"space\": [\"x\", \"y\", \"z\"]},\n",
    "    )\n",
    "    sign = np.sign(np.dot(cross_product, z_vector))\n",
    "    signed_angle_radians = sign * unsigned_angle_radians\n",
    "    print(\"Computed signed angle between intruder's head direction and vector to resident\")\n",
    "\n",
    "    # Store the signed angles in the dictionary\n",
    "    angles_per_pair[pair_name] = signed_angle_radians\n"
   ]
  },
  {
   "cell_type": "markdown",
   "metadata": {},
   "source": [
    "## Save the results to files\n",
    "Save each pair's angles (in radians) to a .csv file.\n",
    "\n",
    "Note that there are lot of missing values, where data were dropped.\n",
    "These appear as blank cells in the .csv files."
   ]
  },
  {
   "cell_type": "code",
   "execution_count": null,
   "metadata": {},
   "outputs": [],
   "source": [
    "for i, pair_name in enumerate(pair_names):\n",
    "    angles_in_radians = angles_per_pair[pair_name]\n",
    "    # covert to a pandas dataframe\n",
    "    df = angles_in_radians.drop_vars(\"individuals\").to_dataframe(\"angle_radians\")\n",
    "    # generate a column with angles in degrees\n",
    "    df[\"angle_degrees\"] = np.degrees(df[\"angle_radians\"])\n",
    "    # Shift time by the interaction onset\n",
    "    # so that the saved times correspond to the time in the video\n",
    "    df.index = df.index + interaction_onsets[pair_name]\n",
    "    # rename index to seconds_in_video\n",
    "    df.index.name = \"seconds_in_video\"\n",
    "    # Save the dataframe to a CSV file\n",
    "    save_path = results_folder / f\"{pair_name}_angles.csv\"\n",
    "    df.to_csv(save_path)\n",
    "    print(f\"Saved angles for {pair_name} to {save_path}\")"
   ]
  },
  {
   "cell_type": "markdown",
   "metadata": {},
   "source": [
    "## Plot the angles in a polar histogram\n",
    "The plot is saved to the results folder."
   ]
  },
  {
   "cell_type": "code",
   "execution_count": null,
   "metadata": {},
   "outputs": [],
   "source": [
    "fig, ax = plt.subplots(2, 2, figsize=(12, 12), subplot_kw=dict(projection=\"polar\"))\n",
    "\n",
    "for i, pair_name in enumerate(pair_names):\n",
    "    resident_id, intruder_id = pair_name.split(\"_\")\n",
    "    angles_in_radians = angles_per_pair[pair_name]\n",
    "    ax_i = ax[i // 2, i % 2]\n",
    "    plot_head_orientation_polar_histogram(\n",
    "        angles_in_radians,\n",
    "        resident_id=resident_id,\n",
    "        intruder_id=intruder_id,\n",
    "        ax=ax_i,\n",
    "    )\n",
    "    ax_i.set_yticks(np.linspace(0, 0.64, 5))\n",
    "    ax_i.set_yticklabels([f\"{int(100*tick)}%\" for tick in ax_i.get_yticks()])\n",
    "\n",
    "fig.subplots_adjust(hspace=0.3, wspace=0.3, left=0.025, right=0.975)\n",
    "fig.suptitle(\"Orientation of resident's head relative to intruder's head direction vector\")\n",
    "plt.savefig(results_folder / \"Head_orientation_polar_histograms.png\")"
   ]
  },
  {
   "cell_type": "code",
   "execution_count": null,
   "metadata": {},
   "outputs": [],
   "source": []
  }
 ],
 "metadata": {
  "kernelspec": {
   "display_name": "In2Research2024",
   "language": "python",
   "name": "python3"
  },
  "language_info": {
   "codemirror_mode": {
    "name": "ipython",
    "version": 3
   },
   "file_extension": ".py",
   "mimetype": "text/x-python",
   "name": "python",
   "nbconvert_exporter": "python",
   "pygments_lexer": "ipython3",
   "version": "3.11.9"
  }
 },
 "nbformat": 4,
 "nbformat_minor": 2
}
